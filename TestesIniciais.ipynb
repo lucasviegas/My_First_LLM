{
  "nbformat": 4,
  "nbformat_minor": 0,
  "metadata": {
    "colab": {
      "provenance": [],
      "authorship_tag": "ABX9TyOIsKnQo3ir0M37Ue3Jc8VB",
      "include_colab_link": true
    },
    "kernelspec": {
      "name": "python3",
      "display_name": "Python 3"
    },
    "language_info": {
      "name": "python"
    }
  },
  "cells": [
    {
      "cell_type": "markdown",
      "metadata": {
        "id": "view-in-github",
        "colab_type": "text"
      },
      "source": [
        "<a href=\"https://colab.research.google.com/github/lucasviegas/My_First_LLM/blob/main/TestesIniciais.ipynb\" target=\"_parent\"><img src=\"https://colab.research.google.com/assets/colab-badge.svg\" alt=\"Open In Colab\"/></a>"
      ]
    },
    {
      "cell_type": "markdown",
      "source": [
        "Instalando o SDK do Google"
      ],
      "metadata": {
        "id": "NJzF8_1oLxUi"
      }
    },
    {
      "cell_type": "code",
      "execution_count": 1,
      "metadata": {
        "id": "IBDSP4VOvlWK"
      },
      "outputs": [],
      "source": [
        "!pip install -q -U google-generativeai"
      ]
    },
    {
      "cell_type": "code",
      "source": [
        "# Import the Python SDK\n",
        "import google.generativeai as genai\n",
        "\n",
        "# Used to securely store your API key\n",
        "from google.colab import userdata\n",
        "userdata.get('secretName')\n",
        "api_key = userdata.get('secretName')\n",
        "\n",
        "genai.configure(api_key=api_key)"
      ],
      "metadata": {
        "id": "rC3N04_6L-VB"
      },
      "execution_count": 1,
      "outputs": []
    },
    {
      "cell_type": "markdown",
      "source": [
        "Listar os modelos disponíveis"
      ],
      "metadata": {
        "id": "NFY63uvpMSJk"
      }
    },
    {
      "cell_type": "code",
      "source": [
        "for m in genai.list_models():\n",
        "  if 'generateContent' in m.supported_generation_methods:\n",
        "    print(m.name)"
      ],
      "metadata": {
        "colab": {
          "base_uri": "https://localhost:8080/",
          "height": 142
        },
        "id": "zk7YVm-hMVWC",
        "outputId": "d0d08ff7-9b8f-451a-a504-b0436cbc720a"
      },
      "execution_count": 8,
      "outputs": [
        {
          "output_type": "stream",
          "name": "stdout",
          "text": [
            "models/gemini-1.0-pro\n",
            "models/gemini-1.0-pro-001\n",
            "models/gemini-1.0-pro-latest\n",
            "models/gemini-1.0-pro-vision-latest\n",
            "models/gemini-1.5-pro-latest\n",
            "models/gemini-pro\n",
            "models/gemini-pro-vision\n"
          ]
        }
      ]
    },
    {
      "cell_type": "code",
      "source": [
        "generation_config = {\n",
        "  \"candidate_count\": 1,\n",
        "  \"temperature\": 0.5,\n",
        "}\n",
        "\n",
        "safety_settings = {\n",
        "  \"HARASSMENT\": \"BLOCK_NONE\",\n",
        "  \"HATE\": \"BLOCK_NONE\",\n",
        "  \"SEXUAL\": \"BLOCK_NONE\",\n",
        "  \"DANGEROUS\": \"BLOCK_NONE\",\n",
        "}\n"
      ],
      "metadata": {
        "id": "A06FZQmNPFSZ"
      },
      "execution_count": 11,
      "outputs": []
    },
    {
      "cell_type": "markdown",
      "source": [
        "Inicializando modelo"
      ],
      "metadata": {
        "id": "jj5szOO6PKRW"
      }
    },
    {
      "cell_type": "code",
      "source": [
        "model = genai.GenerativeModel(model_name=\"gemini-1.0-pro\",\n",
        "                              generation_config=generation_config,\n",
        "                              safety_settings=safety_settings)"
      ],
      "metadata": {
        "id": "3Q2OWZw2PMrI"
      },
      "execution_count": 12,
      "outputs": []
    },
    {
      "cell_type": "code",
      "source": [
        "response = model.generate_content(\"Teste para verificar se está funcionando\")\n",
        "print(response.text)"
      ],
      "metadata": {
        "colab": {
          "base_uri": "https://localhost:8080/",
          "height": 35
        },
        "id": "DTojCM7HQiJf",
        "outputId": "a647ad7e-c0c7-4d82-8221-6cff009e5af2"
      },
      "execution_count": 13,
      "outputs": [
        {
          "output_type": "stream",
          "name": "stdout",
          "text": [
            "Estou funcionando corretamente. Este é um teste para verificar se estou funcionando conforme o esperado.\n"
          ]
        }
      ]
    },
    {
      "cell_type": "code",
      "source": [
        "chat = model.start_chat(history=[])"
      ],
      "metadata": {
        "id": "xSbyl8TnQ8_Z"
      },
      "execution_count": 14,
      "outputs": []
    },
    {
      "cell_type": "code",
      "source": [
        "prompt = input (\"Esperando prompt: \")\n",
        "\n",
        "while prompt != \"fim\":\n",
        "  response = chat.send_message(prompt)\n",
        "  print(\"Resposta: \", response.text, \"\\n\")\n",
        "  prompt = input (\"Esperando prompt: \")"
      ],
      "metadata": {
        "colab": {
          "base_uri": "https://localhost:8080/",
          "height": 466
        },
        "id": "pI9fj9zbRN-s",
        "outputId": "23d19fc2-1a15-4357-81aa-060593b58abe"
      },
      "execution_count": 20,
      "outputs": [
        {
          "name": "stdout",
          "output_type": "stream",
          "text": [
            "Esperando prompt: onde fica interlaken?\n",
            "Resposta:  Interlaken fica na Suíça, no cantão de Berna, na região central do país. Está situada entre os lagos Thun e Brienz, na região conhecida como Oberland Bernês. \n",
            "\n",
            "Esperando prompt: quanto tempo fica de jungfrau\n",
            "Resposta:  O tempo de viagem de Interlaken para Jungfraujoch, o topo da montanha Jungfrau, varia dependendo do meio de transporte escolhido:\n",
            "\n",
            "* **Trem:** Aproximadamente 2 horas e 15 minutos\n",
            "* **Carro:** Aproximadamente 1 hora e 45 minutos (sujeito a condições de trânsito)\n",
            "\n",
            "**De trem:**\n",
            "\n",
            "1. Pegue o trem da estação Interlaken Ost até Lauterbrunnen (30 minutos).\n",
            "2. Em Lauterbrunnen, troque para o trem da Wengernalpbahn até Wengen (45 minutos).\n",
            "3. Em Wengen, troque para o trem da Jungfraubahn até Jungfraujoch (45 minutos).\n",
            "\n",
            "**De carro:**\n",
            "\n",
            "1. Dirija de Interlaken até Lauterbrunnen (30 minutos).\n",
            "2. Estacione em Lauterbrunnen e pegue o trem da Wengernalpbahn até Wengen (45 minutos).\n",
            "3. Em Wengen, troque para o trem da Jungfraubahn até Jungfraujoch (45 minutos).\n",
            "\n",
            "Observe que o trem da Jungfraubahn é um trem de cremalheira que sobe a montanha íngreme. A viagem é cênica e oferece vistas deslumbrantes dos Alpes suíços. \n",
            "\n",
            "Esperando prompt: fim\n"
          ]
        }
      ]
    },
    {
      "cell_type": "code",
      "source": [
        "chat.history"
      ],
      "metadata": {
        "id": "D2B3n7pTTH_b"
      },
      "execution_count": null,
      "outputs": []
    }
  ]
}